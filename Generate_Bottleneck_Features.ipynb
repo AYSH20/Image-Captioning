{
 "cells": [
  {
   "cell_type": "markdown",
   "metadata": {},
   "source": [
    "# Computer Vision Project"
   ]
  },
  {
   "cell_type": "markdown",
   "metadata": {},
   "source": [
    "## Generate Bottleneck Features for flicker8k"
   ]
  },
  {
   "cell_type": "markdown",
   "metadata": {},
   "source": [
    "### important: there should be 'Flicker8k_Dataset' in the directory with images"
   ]
  },
  {
   "cell_type": "code",
   "execution_count": 28,
   "metadata": {
    "collapsed": true
   },
   "outputs": [],
   "source": [
    "import glob\n",
    "import numpy as np\n",
    "from keras.preprocessing import image"
   ]
  },
  {
   "cell_type": "markdown",
   "metadata": {},
   "source": [
    "Initialize `bottleneck_features`"
   ]
  },
  {
   "cell_type": "code",
   "execution_count": 29,
   "metadata": {
    "collapsed": true
   },
   "outputs": [],
   "source": [
    "filenames = glob.glob(\"Flicker8k_Dataset/*.jpg\")"
   ]
  },
  {
   "cell_type": "markdown",
   "metadata": {},
   "source": [
    "### 1. VGG16 (512 - last layer)"
   ]
  },
  {
   "cell_type": "code",
   "execution_count": 30,
   "metadata": {
    "collapsed": true
   },
   "outputs": [],
   "source": [
    "from keras.applications.vgg16 import VGG16\n",
    "from keras.applications.vgg16 import preprocess_input\n",
    "\n",
    "# Initialize the bottleneck_features numpy array\n",
    "bottleneck_features_VGG16 = np.zeros((len(filenames), 512))\n",
    "\n",
    "model = VGG16(weights='imagenet', include_top=False, pooling='avg')\n",
    "\n",
    "for i, path in enumerate(filenames):\n",
    "    img = image.load_img(path, target_size=(224, 224))\n",
    "    x = image.img_to_array(img)\n",
    "    x = np.expand_dims(x, axis=0)\n",
    "    x = preprocess_input(x)\n",
    "    features = model.predict(x)    \n",
    "    bottleneck_features_VGG16[i] = features"
   ]
  },
  {
   "cell_type": "code",
   "execution_count": 31,
   "metadata": {
    "collapsed": true
   },
   "outputs": [],
   "source": [
    "from tempfile import TemporaryFile\n",
    "Flicker8k_bottleneck_features_VGG16 = TemporaryFile()\n",
    "np.savez(Flicker8k_bottleneck_features_VGG16, bottleneck_features_VGG16=bottleneck_features_VGG16)"
   ]
  },
  {
   "cell_type": "markdown",
   "metadata": {},
   "source": [
    "When loading, use \n",
    "\n",
    "```\n",
    "bottleneck_features = np.load(bottleneck_features_VGG16)\n",
    "bottleneck_features = bottleneck_features['bottleneck_features_VGG16']\n",
    "```"
   ]
  },
  {
   "cell_type": "markdown",
   "metadata": {},
   "source": [
    "### 2. VGG19 (512 - last layer)"
   ]
  },
  {
   "cell_type": "code",
   "execution_count": 32,
   "metadata": {
    "collapsed": true
   },
   "outputs": [],
   "source": [
    "from keras.applications.vgg19 import VGG19\n",
    "from keras.applications.vgg19 import preprocess_input\n",
    "\n",
    "# Initialize the bottleneck_features numpy array\n",
    "bottleneck_features_VGG19 = np.zeros((len(filenames), 512))\n",
    "\n",
    "model = VGG19(weights='imagenet', include_top=False, pooling='avg')\n",
    "\n",
    "for i, path in enumerate(filenames):\n",
    "    img = image.load_img(path, target_size=(224, 224))\n",
    "    x = image.img_to_array(img)\n",
    "    x = np.expand_dims(x, axis=0)\n",
    "    x = preprocess_input(x)\n",
    "    features = model.predict(x)    \n",
    "    bottleneck_features_VGG19[i] = features"
   ]
  },
  {
   "cell_type": "code",
   "execution_count": 33,
   "metadata": {
    "collapsed": true
   },
   "outputs": [],
   "source": [
    "Flicker8k_bottleneck_features_VGG19 = TemporaryFile()\n",
    "np.savez(Flicker8k_bottleneck_features_VGG19, bottleneck_features_VGG19=bottleneck_features_VGG19)"
   ]
  },
  {
   "cell_type": "markdown",
   "metadata": {},
   "source": [
    "### 3. ResNet50 (2048 - last layer)"
   ]
  },
  {
   "cell_type": "code",
   "execution_count": 34,
   "metadata": {
    "collapsed": true
   },
   "outputs": [],
   "source": [
    "from keras.applications.resnet50 import ResNet50\n",
    "from keras.applications.resnet50 import preprocess_input\n",
    "\n",
    "# Initialize the bottleneck_features numpy array\n",
    "bottleneck_features_ResNet50 = np.zeros((len(filenames), 2048))\n",
    "\n",
    "model = ResNet50(weights='imagenet', include_top=False, pooling='avg')\n",
    "\n",
    "for i, path in enumerate(filenames):\n",
    "    img = image.load_img(path, target_size=(224, 224))\n",
    "    x = image.img_to_array(img)\n",
    "    x = np.expand_dims(x, axis=0)\n",
    "    x = preprocess_input(x)\n",
    "    features = model.predict(x)    \n",
    "    bottleneck_features_ResNet50[i] = features"
   ]
  },
  {
   "cell_type": "code",
   "execution_count": 35,
   "metadata": {
    "collapsed": true
   },
   "outputs": [],
   "source": [
    "Flicker8k_bottleneck_features_ResNet50 = TemporaryFile()\n",
    "np.savez(Flicker8k_bottleneck_features_ResNet50, bottleneck_features_VGG19=bottleneck_features_ResNet50)"
   ]
  },
  {
   "cell_type": "markdown",
   "metadata": {},
   "source": [
    "### 4. Xception (2048 - last layer)"
   ]
  },
  {
   "cell_type": "code",
   "execution_count": 36,
   "metadata": {
    "collapsed": true
   },
   "outputs": [],
   "source": [
    "from keras.applications.xception import Xception\n",
    "from keras.applications.xception import preprocess_input\n",
    "\n",
    "# Initialize the bottleneck_features numpy array\n",
    "bottleneck_features_Xception = np.zeros((len(filenames), 2048))\n",
    "\n",
    "model = Xception(weights='imagenet', include_top=False, pooling='avg')\n",
    "\n",
    "for i, path in enumerate(filenames):\n",
    "    img = image.load_img(path, target_size=(224, 224))\n",
    "    x = image.img_to_array(img)\n",
    "    x = np.expand_dims(x, axis=0)\n",
    "    x = preprocess_input(x)\n",
    "    features = model.predict(x)    \n",
    "    bottleneck_features_Xception[i] = features"
   ]
  },
  {
   "cell_type": "code",
   "execution_count": 37,
   "metadata": {
    "collapsed": true
   },
   "outputs": [],
   "source": [
    "Flicker8k_bottleneck_features_Xception = TemporaryFile()\n",
    "np.savez(Flicker8k_bottleneck_features_Xception, bottleneck_features_VGG19=bottleneck_features_Xception)"
   ]
  }
 ],
 "metadata": {
  "kernelspec": {
   "display_name": "Python 3",
   "language": "python",
   "name": "python3"
  },
  "language_info": {
   "codemirror_mode": {
    "name": "ipython",
    "version": 3
   },
   "file_extension": ".py",
   "mimetype": "text/x-python",
   "name": "python",
   "nbconvert_exporter": "python",
   "pygments_lexer": "ipython3",
   "version": "3.6.3"
  }
 },
 "nbformat": 4,
 "nbformat_minor": 2
}
