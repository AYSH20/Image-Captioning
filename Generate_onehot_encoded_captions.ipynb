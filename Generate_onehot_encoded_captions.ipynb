{
 "cells": [
  {
   "cell_type": "markdown",
   "metadata": {},
   "source": [
    "## Caption Preprocessing\n",
    "\n",
    "### Word Embedding"
   ]
  },
  {
   "cell_type": "code",
   "execution_count": 1,
   "metadata": {},
   "outputs": [
    {
     "name": "stderr",
     "output_type": "stream",
     "text": [
      "/Users/pulkitmaloo/anaconda3/lib/python3.6/site-packages/h5py/__init__.py:34: FutureWarning: Conversion of the second argument of issubdtype from `float` to `np.floating` is deprecated. In future, it will be treated as `np.float64 == np.dtype(float).type`.\n",
      "  from ._conv import register_converters as _register_converters\n",
      "Using TensorFlow backend.\n",
      "/Users/pulkitmaloo/anaconda3/lib/python3.6/importlib/_bootstrap.py:219: RuntimeWarning: compiletime version 3.5 of module 'tensorflow.python.framework.fast_tensor_util' does not match runtime version 3.6\n",
      "  return f(*args, **kwds)\n"
     ]
    }
   ],
   "source": [
    "from caption_utils import *"
   ]
  },
  {
   "cell_type": "code",
   "execution_count": 2,
   "metadata": {},
   "outputs": [
    {
     "name": "stdout",
     "output_type": "stream",
     "text": [
      "2531\n"
     ]
    }
   ],
   "source": [
    "train_fns_list, dev_fns_list, test_fns_list = load_split_lists()\n",
    "\n",
    "train_captions_raw, dev_captions_raw, test_captions_raw = get_caption_split()\n",
    "vocab = create_vocab(train_captions_raw)\n",
    "token2idx, idx2token = vocab_to_index(vocab)     \n",
    "captions_data = (train_captions_raw.copy(), dev_captions_raw.copy(), test_captions_raw.copy())\n",
    "train_captions, dev_captions, test_captions = process_captions(captions_data, token2idx)\n",
    "print(len(vocab))"
   ]
  },
  {
   "cell_type": "code",
   "execution_count": 3,
   "metadata": {},
   "outputs": [],
   "source": [
    "assert(len(idx2token) == len(vocab) == len(token2idx))"
   ]
  },
  {
   "cell_type": "markdown",
   "metadata": {},
   "source": [
    "### One hot encode"
   ]
  },
  {
   "cell_type": "code",
   "execution_count": 4,
   "metadata": {},
   "outputs": [],
   "source": [
    "from keras.utils import to_categorical\n",
    "\n",
    "def one_hot_encode(caption_dictionary):\n",
    "    captions_dict = {}\n",
    "    for filename in caption_dictionary:\n",
    "        captions_dict[filename] = []\n",
    "        for caption in caption_dictionary[filename]:\n",
    "            encoded = to_categorical(caption, num_classes=len(vocab))\n",
    "            captions_dict[filename].append(encoded)\n",
    "    return captions_dict"
   ]
  },
  {
   "cell_type": "code",
   "execution_count": 5,
   "metadata": {},
   "outputs": [],
   "source": [
    "train_captions_onehot = one_hot_encode(train_captions)\n",
    "dev_captions_onehot = one_hot_encode(dev_captions)\n",
    "test_captions_onehot = one_hot_encode(test_captions)"
   ]
  },
  {
   "cell_type": "markdown",
   "metadata": {},
   "source": [
    "Change the shape of result of one hot encoded vectors"
   ]
  },
  {
   "cell_type": "code",
   "execution_count": 6,
   "metadata": {},
   "outputs": [
    {
     "name": "stdout",
     "output_type": "stream",
     "text": [
      "There are 40000 number of captions in total.\n",
      "The maximum words in a sentence is 37\n"
     ]
    }
   ],
   "source": [
    "caption_lengths = []\n",
    "for filename in train_captions.keys():\n",
    "    for caption in train_captions[filename]:\n",
    "        caption_lengths.append(len(caption))\n",
    "for filename in dev_captions.keys():\n",
    "    for caption in dev_captions[filename]:\n",
    "        caption_lengths.append(len(caption))        \n",
    "for filename in test_captions.keys():\n",
    "    for caption in test_captions[filename]:\n",
    "        caption_lengths.append(len(caption))\n",
    "\n",
    "max_words_in_sentence = max(caption_lengths)\n",
    "\n",
    "print(\"There are {} number of captions in total.\".format(len(caption_lengths)))\n",
    "print(\"The maximum words in a sentence is {}\".format(max_words_in_sentence))"
   ]
  },
  {
   "cell_type": "markdown",
   "metadata": {},
   "source": [
    "## 1. Training captions"
   ]
  },
  {
   "cell_type": "code",
   "execution_count": 7,
   "metadata": {},
   "outputs": [
    {
     "name": "stdout",
     "output_type": "stream",
     "text": [
      "There are 2531 distinct words in captions\n",
      "Thera are 30000 captions in training set\n",
      "(30000, 37, 2531)\n"
     ]
    }
   ],
   "source": [
    "num_words = len(vocab)\n",
    "num_captions_per_image = 5 # 5 stands for number of captions per image\n",
    "total_captions = len(train_captions) * num_captions_per_image \n",
    "print(\"There are {} distinct words in captions\".format(num_words))\n",
    "print(\"Thera are {} captions in training set\".format(total_captions))\n",
    "\n",
    "train_captions_onehot_processed = np.zeros((total_captions, max_words_in_sentence, num_words)).astype(bool)\n",
    "print(train_captions_onehot_processed.shape)\n",
    "\n",
    "for i, filename in enumerate(train_fns_list):\n",
    "    for j, caption in enumerate(train_captions_onehot[filename]):\n",
    "        for k, onehot in enumerate(caption):\n",
    "            train_captions_onehot_processed[i*num_captions_per_image + j][k] = onehot\n",
    "            \n",
    "# Checking if train_captions_onehot_processed is correctly implemented\n",
    "# Checking if number of words are identical per caption\n",
    "Check_word_lengths = []\n",
    "for i in range(len(train_captions)):\n",
    "    for j in range(num_captions_per_image):\n",
    "        Check_word_lengths.append(train_captions_onehot_processed[i*num_captions_per_image + j].sum() == len(train_captions[train_fns_list[i]][j]))\n",
    "\n",
    "assert(sum(Check_word_lengths) == total_captions)"
   ]
  },
  {
   "cell_type": "markdown",
   "metadata": {},
   "source": [
    "## 2. Validation captions"
   ]
  },
  {
   "cell_type": "code",
   "execution_count": 8,
   "metadata": {},
   "outputs": [
    {
     "name": "stdout",
     "output_type": "stream",
     "text": [
      "There are 2531 distinct words in captions\n",
      "Thera are 5000 captions in validation set\n",
      "(5000, 37, 2531)\n"
     ]
    }
   ],
   "source": [
    "num_words = len(vocab)\n",
    "num_captions_per_image = 5 # 5 stands for number of captions per image\n",
    "total_captions = len(dev_captions) * num_captions_per_image \n",
    "print(\"There are {} distinct words in captions\".format(num_words))\n",
    "print(\"Thera are {} captions in validation set\".format(total_captions))\n",
    "\n",
    "dev_captions_onehot_processed = np.zeros((total_captions, max_words_in_sentence, num_words)).astype(bool)\n",
    "print(dev_captions_onehot_processed.shape)\n",
    "\n",
    "for i, filename in enumerate(dev_fns_list):\n",
    "    for j, caption in enumerate(dev_captions_onehot[filename]):\n",
    "        for k, onehot in enumerate(caption):\n",
    "            dev_captions_onehot_processed[i*num_captions_per_image + j][k] = onehot\n",
    "            \n",
    "# Checking if dev_captions_onehot_processed is correctly implemented\n",
    "# Checking if number of words are identical per caption\n",
    "Check_word_lengths = []\n",
    "for i in range(len(dev_captions)):\n",
    "    for j in range(num_captions_per_image):\n",
    "        Check_word_lengths.append(dev_captions_onehot_processed[i*num_captions_per_image + j].sum() == len(dev_captions[dev_fns_list[i]][j]))\n",
    "\n",
    "assert(sum(Check_word_lengths) == total_captions)"
   ]
  },
  {
   "cell_type": "markdown",
   "metadata": {},
   "source": [
    "## 3. Test captions"
   ]
  },
  {
   "cell_type": "code",
   "execution_count": 9,
   "metadata": {},
   "outputs": [
    {
     "name": "stdout",
     "output_type": "stream",
     "text": [
      "There are 2531 distinct words in captions\n",
      "Thera are 5000 captions in test set\n",
      "(5000, 37, 2531)\n"
     ]
    }
   ],
   "source": [
    "num_words = len(vocab)\n",
    "num_captions_per_image = 5 # 5 stands for number of captions per image\n",
    "total_captions = len(test_captions) * num_captions_per_image \n",
    "print(\"There are {} distinct words in captions\".format(num_words))\n",
    "print(\"Thera are {} captions in test set\".format(total_captions))\n",
    "\n",
    "test_captions_onehot_processed = np.zeros((total_captions, max_words_in_sentence, num_words)).astype(bool)\n",
    "print(test_captions_onehot_processed.shape)\n",
    "\n",
    "for i, filename in enumerate(test_fns_list):\n",
    "    for j, caption in enumerate(test_captions_onehot[filename]):\n",
    "        for k, onehot in enumerate(caption):\n",
    "            test_captions_onehot_processed[i*num_captions_per_image + j][k] = onehot\n",
    "            \n",
    "# Checking if test_captions_onehot_processed is correctly implemented\n",
    "# Checking if number of words are identical per caption\n",
    "Check_word_lengths = []\n",
    "for i in range(len(test_captions)):\n",
    "    for j in range(num_captions_per_image):\n",
    "        Check_word_lengths.append(test_captions_onehot_processed[i*num_captions_per_image + j].sum() == len(test_captions[test_fns_list[i]][j]))\n",
    "\n",
    "assert(sum(Check_word_lengths) == total_captions)"
   ]
  },
  {
   "cell_type": "code",
   "execution_count": 10,
   "metadata": {},
   "outputs": [],
   "source": [
    "np.savez('preprocessed_captions/Flicker8k_onehot_'+str(len(vocab))+'_words',\n",
    "        train=train_captions_onehot_processed,\n",
    "        test=test_captions_onehot_processed,\n",
    "        validation=dev_captions_onehot_processed)"
   ]
  },
  {
   "cell_type": "code",
   "execution_count": null,
   "metadata": {},
   "outputs": [],
   "source": []
  },
  {
   "cell_type": "code",
   "execution_count": 11,
   "metadata": {},
   "outputs": [
    {
     "name": "stdout",
     "output_type": "stream",
     "text": [
      "a black dog is running after a white dog in the snow\n",
      "A black dog is running after a white dog in the snow .\n"
     ]
    }
   ],
   "source": [
    "print(onehot_to_caption(idx2token, train_captions[train_fns_list[0]][0]))\n",
    "print(train_captions_raw[train_fns_list[0]][0])"
   ]
  },
  {
   "cell_type": "code",
   "execution_count": null,
   "metadata": {},
   "outputs": [],
   "source": []
  },
  {
   "cell_type": "code",
   "execution_count": null,
   "metadata": {},
   "outputs": [],
   "source": []
  }
 ],
 "metadata": {
  "kernelspec": {
   "display_name": "Python 3",
   "language": "python",
   "name": "python3"
  },
  "language_info": {
   "codemirror_mode": {
    "name": "ipython",
    "version": 3
   },
   "file_extension": ".py",
   "mimetype": "text/x-python",
   "name": "python",
   "nbconvert_exporter": "python",
   "pygments_lexer": "ipython3",
   "version": "3.6.4"
  }
 },
 "nbformat": 4,
 "nbformat_minor": 2
}
