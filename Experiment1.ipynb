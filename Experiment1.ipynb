{
 "cells": [
  {
   "cell_type": "markdown",
   "metadata": {},
   "source": [
    "## Prepare the inputs"
   ]
  },
  {
   "cell_type": "markdown",
   "metadata": {},
   "source": [
    "- encoder_input_data: 2D array of shape `(num_images * 5, 512)`\n",
    "- decoder_input_data: 3D array of shape `(num_captions, max_words_in_sentence, num_words)`\n",
    "- decoder_output_data: same as decoder_input_data but offset by one timestep. decoder_target_data[:, t, :] will be the same as decoder_input_data[:, t + 1, :]"
   ]
  },
  {
   "cell_type": "markdown",
   "metadata": {},
   "source": [
    "## Image Preprocessing\n",
    "\n",
    "obtain bottleneck features"
   ]
  },
  {
   "cell_type": "code",
   "execution_count": 1,
   "metadata": {},
   "outputs": [],
   "source": [
    "import numpy as np"
   ]
  },
  {
   "cell_type": "code",
   "execution_count": 127,
   "metadata": {},
   "outputs": [],
   "source": [
    "# Since there are 5 captions per image, duplicate the bottleneck features\n",
    "def duplicate_bottleneck_features(features):\n",
    "    num_captions = 5 # 5 stands for number of captions per image\n",
    "    num_rows = features.shape[0] * num_captions \n",
    "\n",
    "    features_dup = np.zeros((num_rows, features.shape[1]))\n",
    "    for i, image in enumerate(features):\n",
    "        for j in range(num_captions):\n",
    "            features_dup[i*num_captions + j] = image\n",
    "    return features_dup    "
   ]
  },
  {
   "cell_type": "code",
   "execution_count": 2,
   "metadata": {},
   "outputs": [],
   "source": [
    "bottleneck_features = np.load('bottleneck_features/Flicker8k_bottleneck_features_VGG16_avgpooling.npz')\n",
    "bottleneck_features_train = bottleneck_features[\"train\"]\n",
    "bottleneck_features_test = bottleneck_features[\"test\"]\n",
    "bottleneck_features_validation = bottleneck_features[\"validation\"]\n",
    "\n",
    "bottleneck_features_train_dup = duplicate_bottleneck_features(bottleneck_features_train)"
   ]
  },
  {
   "cell_type": "markdown",
   "metadata": {},
   "source": [
    "## Caption Preprocessing\n"
   ]
  },
  {
   "cell_type": "code",
   "execution_count": 152,
   "metadata": {},
   "outputs": [],
   "source": [
    "captions_onehot = np.load('preprocessed_captions/Flicker8k_onehot_2530_words.npz')\n",
    "train_captions_onehot = captions_onehot[\"train\"]\n",
    "validation_captions_onehot = captions_onehot[\"validation\"]\n",
    "test_captions_onehot = captions_onehot[\"test\"]"
   ]
  },
  {
   "cell_type": "code",
   "execution_count": 155,
   "metadata": {},
   "outputs": [
    {
     "name": "stdout",
     "output_type": "stream",
     "text": [
      "(30000, 37, 2531)\n",
      "(5000, 37, 2531)\n",
      "(5000, 37, 2531)\n"
     ]
    }
   ],
   "source": [
    "print(train_captions_onehot.shape)\n",
    "print(validation_captions_onehot.shape)\n",
    "print(test_captions_onehot.shape)"
   ]
  }
 ],
 "metadata": {
  "kernelspec": {
   "display_name": "Python 3",
   "language": "python",
   "name": "python3"
  },
  "language_info": {
   "codemirror_mode": {
    "name": "ipython",
    "version": 3
   },
   "file_extension": ".py",
   "mimetype": "text/x-python",
   "name": "python",
   "nbconvert_exporter": "python",
   "pygments_lexer": "ipython3",
   "version": "3.5.5"
  }
 },
 "nbformat": 4,
 "nbformat_minor": 2
}
