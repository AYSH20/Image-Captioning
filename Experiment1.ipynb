{
 "cells": [
  {
   "cell_type": "markdown",
   "metadata": {},
   "source": [
    "## Prepare the inputs"
   ]
  },
  {
   "cell_type": "markdown",
   "metadata": {},
   "source": [
    "- encoder_input_data: 2D array of shape `(num_images * 5, 512)`\n",
    "- decoder_input_data: 3D array of shape `(num_captions, max_words_in_sentence, num_words)`\n",
    "- decoder_output_data: same as decoder_input_data but offset by one timestep. decoder_target_data[:, t, :] will be the same as decoder_input_data[:, t + 1, :]"
   ]
  },
  {
   "cell_type": "markdown",
   "metadata": {},
   "source": [
    "## Image Preprocessing\n",
    "\n",
    "obtain bottleneck features"
   ]
  },
  {
   "cell_type": "code",
   "execution_count": 1,
   "metadata": {},
   "outputs": [],
   "source": [
    "import numpy as np"
   ]
  },
  {
   "cell_type": "code",
   "execution_count": 2,
   "metadata": {},
   "outputs": [],
   "source": [
    "# Since there are 5 captions per image, duplicate the bottleneck features\n",
    "def duplicate_bottleneck_features(features):\n",
    "    num_captions = 5 # 5 stands for number of captions per image\n",
    "    num_rows = features.shape[0] * num_captions \n",
    "\n",
    "    features_dup = np.zeros((num_rows, features.shape[1]))\n",
    "    for i, image in enumerate(features):\n",
    "        for j in range(num_captions):\n",
    "            features_dup[i*num_captions + j] = image\n",
    "    return features_dup    "
   ]
  },
  {
   "cell_type": "code",
   "execution_count": 3,
   "metadata": {},
   "outputs": [],
   "source": [
    "bottleneck_features = np.load('bottleneck_features/Flicker8k_bottleneck_features_VGG16_avgpooling.npz')\n",
    "bottleneck_features_train = bottleneck_features[\"train\"]\n",
    "bottleneck_features_validation = bottleneck_features[\"validation\"]\n",
    "bottleneck_features_test = bottleneck_features[\"test\"]\n",
    "\n",
    "bottleneck_features_train_dup = duplicate_bottleneck_features(bottleneck_features_train)\n",
    "bottleneck_features_validation_dup = duplicate_bottleneck_features(bottleneck_features_validation)\n",
    "bottleneck_features_test_dup = duplicate_bottleneck_features(bottleneck_features_test)"
   ]
  },
  {
   "cell_type": "code",
   "execution_count": 4,
   "metadata": {},
   "outputs": [
    {
     "name": "stdout",
     "output_type": "stream",
     "text": [
      "(30000, 512)\n",
      "(5000, 512)\n",
      "(5000, 512)\n"
     ]
    }
   ],
   "source": [
    "print(bottleneck_features_train_dup.shape)\n",
    "print(bottleneck_features_validation_dup.shape)\n",
    "print(bottleneck_features_test_dup.shape)"
   ]
  },
  {
   "cell_type": "markdown",
   "metadata": {},
   "source": [
    "## Word Embedding"
   ]
  },
  {
   "cell_type": "code",
   "execution_count": 9,
   "metadata": {},
   "outputs": [],
   "source": [
    "from caption_utils import *\n",
    "\n",
    "train_fns_list, dev_fns_list, test_fns_list = load_split_lists()\n",
    "del train_fns_list[-1]\n",
    "del dev_fns_list[-1]\n",
    "del test_fns_list[-1]\n",
    "\n",
    "train_captions_raw, dev_captions_raw, test_captions_raw = get_caption_split()\n",
    "vocab = create_vocab(train_captions_raw)\n",
    "token2idx, idx2token = vocab_to_index(vocab)     \n",
    "captions_data = (train_captions_raw.copy(), dev_captions_raw.copy(), test_captions_raw.copy())\n",
    "train_captions, dev_captions, test_captions = process_captions(captions_data, token2idx)\n",
    "del train_captions['']\n",
    "del dev_captions['']\n",
    "del test_captions['']"
   ]
  },
  {
   "cell_type": "markdown",
   "metadata": {},
   "source": [
    "## Caption Preprocessing\n"
   ]
  },
  {
   "cell_type": "code",
   "execution_count": 5,
   "metadata": {},
   "outputs": [],
   "source": [
    "captions_onehot = np.load('preprocessed_captions/Flicker8k_onehot_2530_words.npz')\n",
    "train_captions_onehot = captions_onehot[\"train\"]\n",
    "validation_captions_onehot = captions_onehot[\"validation\"]\n",
    "test_captions_onehot = captions_onehot[\"test\"]"
   ]
  },
  {
   "cell_type": "code",
   "execution_count": 6,
   "metadata": {},
   "outputs": [
    {
     "name": "stdout",
     "output_type": "stream",
     "text": [
      "(30000, 37, 2531)\n",
      "(5000, 37, 2531)\n",
      "(5000, 37, 2531)\n"
     ]
    }
   ],
   "source": [
    "print(train_captions_onehot.shape)\n",
    "print(validation_captions_onehot.shape)\n",
    "print(test_captions_onehot.shape)"
   ]
  },
  {
   "cell_type": "markdown",
   "metadata": {},
   "source": [
    "## Build Model"
   ]
  },
  {
   "cell_type": "code",
   "execution_count": 7,
   "metadata": {},
   "outputs": [
    {
     "name": "stderr",
     "output_type": "stream",
     "text": [
      "/home/ubuntu/anaconda3/envs/tensorflow-3.5/lib/python3.5/site-packages/h5py/__init__.py:36: FutureWarning: Conversion of the second argument of issubdtype from `float` to `np.floating` is deprecated. In future, it will be treated as `np.float64 == np.dtype(float).type`.\n",
      "  from ._conv import register_converters as _register_converters\n",
      "Using TensorFlow backend.\n"
     ]
    }
   ],
   "source": [
    "from __future__ import print_function\n",
    "\n",
    "from keras.models import Model\n",
    "from keras.layers import Input, LSTM, Dense\n",
    "import numpy as np\n",
    "\n",
    "batch_size = 64  # Batch size for training.\n",
    "epochs = 5  # Number of epochs to train for.\n",
    "latent_dim = 300  # Latent dimensionality of the encoding space.\n",
    "num_samples = bottleneck_features_train_dup.shape[0]"
   ]
  },
  {
   "cell_type": "code",
   "execution_count": 33,
   "metadata": {},
   "outputs": [],
   "source": [
    "input_images = bottleneck_features_train_dup\n",
    "target_words = train_captions_onehot"
   ]
  },
  {
   "cell_type": "code",
   "execution_count": 30,
   "metadata": {},
   "outputs": [
    {
     "name": "stdout",
     "output_type": "stream",
     "text": [
      "Number of samples: 433458\n",
      "Number of unique input tokens: 2530\n",
      "Number of unique output tokens: 2530\n",
      "Max sequence length for inputs: 37\n",
      "Max sequence length for outputs: 37\n"
     ]
    }
   ],
   "source": [
    "input_words = []\n",
    "for dataset in captions_data:\n",
    "    for filename in dataset:\n",
    "        for caption in dataset[filename]:\n",
    "            input_words.extend(caption)\n",
    "            \n",
    "input_words = sorted(input_words)\n",
    "target_words = sorted(input_words)\n",
    "num_encoder_tokens = len(vocab)\n",
    "num_decoder_tokens = len(vocab)\n",
    "max_encoder_seq_length = train_captions_onehot.shape[1]\n",
    "max_decoder_seq_length = train_captions_onehot.shape[1]\n",
    "\n",
    "print('Number of samples:', len(input_words))\n",
    "print('Number of unique input tokens:', num_encoder_tokens)\n",
    "print('Number of unique output tokens:', num_decoder_tokens)\n",
    "print('Max sequence length for inputs:', max_encoder_seq_length)\n",
    "print('Max sequence length for outputs:', max_decoder_seq_length)"
   ]
  },
  {
   "cell_type": "code",
   "execution_count": 48,
   "metadata": {},
   "outputs": [],
   "source": [
    "#input_token_index = dict(\n",
    "#    [(word, i) for i, word in enumerate(input_words)])\n",
    "#target_token_index = dict(\n",
    "#    [(word, i) for i, word in enumerate(target_words)])\n",
    "\n",
    "encoder_input_data = bottleneck_features_train_dup\n",
    "decoder_input_data = train_captions_onehot\n",
    "decoder_target_data = train_captions_onehot\n",
    "# Change decoder_target_data: decoder_target_data is ahead of decoder_input_data by one timestep\n",
    "for i, caption in enumerate(decoder_input_data):\n",
    "    for j, word in enumerate(caption):\n",
    "        if j > 0:\n",
    "            decoder_target_data[i][j-1] = decoder_input_data[i][j]"
   ]
  },
  {
   "cell_type": "code",
   "execution_count": 56,
   "metadata": {},
   "outputs": [
    {
     "data": {
      "text/plain": [
       "False"
      ]
     },
     "execution_count": 56,
     "metadata": {},
     "output_type": "execute_result"
    }
   ],
   "source": [
    "# needs to be true\n",
    "(decoder_target_data[0][0] == decoder_input_data[0][1]).all()"
   ]
  },
  {
   "cell_type": "code",
   "execution_count": null,
   "metadata": {},
   "outputs": [],
   "source": []
  },
  {
   "cell_type": "markdown",
   "metadata": {},
   "source": [
    "# Remove lines below"
   ]
  },
  {
   "cell_type": "code",
   "execution_count": null,
   "metadata": {},
   "outputs": [],
   "source": [
    "for i, (input_text, target_text) in enumerate(zip(input_texts, target_texts)):\n",
    "#    for t, char in enumerate(input_text):\n",
    "#        encoder_input_data[i, t, input_token_index[char]] = 1.\n",
    "    for t, char in enumerate(target_text):\n",
    "        # decoder_target_data is ahead of decoder_input_data by one timestep\n",
    "        decoder_input_data[i, t, target_token_index[char]] = 1.\n",
    "        if t > 0:\n",
    "            # decoder_target_data will be ahead by one timestep\n",
    "            # and will not include the start character.\n",
    "            decoder_target_data[i, t - 1, target_token_index[char]] = 1."
   ]
  }
 ],
 "metadata": {
  "kernelspec": {
   "display_name": "Python 3",
   "language": "python",
   "name": "python3"
  },
  "language_info": {
   "codemirror_mode": {
    "name": "ipython",
    "version": 3
   },
   "file_extension": ".py",
   "mimetype": "text/x-python",
   "name": "python",
   "nbconvert_exporter": "python",
   "pygments_lexer": "ipython3",
   "version": "3.5.5"
  }
 },
 "nbformat": 4,
 "nbformat_minor": 2
}
