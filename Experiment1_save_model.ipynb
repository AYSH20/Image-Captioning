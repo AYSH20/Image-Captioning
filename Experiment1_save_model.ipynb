{
 "cells": [
  {
   "cell_type": "markdown",
   "metadata": {},
   "source": [
    "## Prepare the inputs"
   ]
  },
  {
   "cell_type": "markdown",
   "metadata": {},
   "source": [
    "- encoder_input_data: 2D array of shape `(num_images * 5, 512)`\n",
    "- decoder_input_data: 3D array of shape `(num_captions, max_words_in_sentence, num_words)`\n",
    "- decoder_output_data: same as decoder_input_data but offset by one timestep. decoder_target_data[:, t, :] will be the same as decoder_input_data[:, t + 1, :]"
   ]
  },
  {
   "cell_type": "markdown",
   "metadata": {},
   "source": [
    "## Image Preprocessing\n",
    "\n",
    "obtain bottleneck features"
   ]
  },
  {
   "cell_type": "code",
   "execution_count": 1,
   "metadata": {},
   "outputs": [],
   "source": [
    "import numpy as np"
   ]
  },
  {
   "cell_type": "code",
   "execution_count": 2,
   "metadata": {},
   "outputs": [],
   "source": [
    "# Since there are 5 captions per image, duplicate the bottleneck features\n",
    "def duplicate_bottleneck_features(features):\n",
    "    num_captions = 5 # 5 stands for number of captions per image\n",
    "    num_rows = features.shape[0] * num_captions \n",
    "\n",
    "    features_dup = np.zeros((num_rows, features.shape[1]))\n",
    "    for i, image in enumerate(features):\n",
    "        for j in range(num_captions):\n",
    "            features_dup[i*num_captions + j] = image\n",
    "    return features_dup    "
   ]
  },
  {
   "cell_type": "code",
   "execution_count": 3,
   "metadata": {},
   "outputs": [],
   "source": [
    "bottleneck_features = np.load('bottleneck_features/Flicker8k_bottleneck_features_VGG16_avgpooling.npz')\n",
    "bottleneck_features_train = bottleneck_features[\"train\"]\n",
    "bottleneck_features_validation = bottleneck_features[\"validation\"]\n",
    "bottleneck_features_test = bottleneck_features[\"test\"]\n",
    "\n",
    "bottleneck_features_train_dup = duplicate_bottleneck_features(bottleneck_features_train)\n",
    "bottleneck_features_validation_dup = duplicate_bottleneck_features(bottleneck_features_validation)\n",
    "bottleneck_features_test_dup = duplicate_bottleneck_features(bottleneck_features_test)"
   ]
  },
  {
   "cell_type": "code",
   "execution_count": 4,
   "metadata": {},
   "outputs": [
    {
     "name": "stdout",
     "output_type": "stream",
     "text": [
      "(30000, 512)\n",
      "(5000, 512)\n",
      "(5000, 512)\n"
     ]
    }
   ],
   "source": [
    "print(bottleneck_features_train_dup.shape)\n",
    "print(bottleneck_features_validation_dup.shape)\n",
    "print(bottleneck_features_test_dup.shape)"
   ]
  },
  {
   "cell_type": "markdown",
   "metadata": {},
   "source": [
    "## Word Embedding"
   ]
  },
  {
   "cell_type": "code",
   "execution_count": 5,
   "metadata": {},
   "outputs": [
    {
     "name": "stderr",
     "output_type": "stream",
     "text": [
      "/home/ubuntu/anaconda3/envs/tensorflow-3.5/lib/python3.5/site-packages/h5py/__init__.py:36: FutureWarning: Conversion of the second argument of issubdtype from `float` to `np.floating` is deprecated. In future, it will be treated as `np.float64 == np.dtype(float).type`.\n",
      "  from ._conv import register_converters as _register_converters\n",
      "Using TensorFlow backend.\n"
     ]
    }
   ],
   "source": [
    "from caption_utils import *\n",
    "train_fns_list, dev_fns_list, test_fns_list = load_split_lists()\n",
    "\n",
    "train_captions_raw, dev_captions_raw, test_captions_raw = get_caption_split()\n",
    "vocab = create_vocab(train_captions_raw)\n",
    "token2idx, idx2token = vocab_to_index(vocab)     \n",
    "captions_data = (train_captions_raw.copy(), dev_captions_raw.copy(), test_captions_raw.copy())\n",
    "train_captions, dev_captions, test_captions = process_captions(captions_data, token2idx)"
   ]
  },
  {
   "cell_type": "code",
   "execution_count": 6,
   "metadata": {},
   "outputs": [
    {
     "name": "stdout",
     "output_type": "stream",
     "text": [
      "2531\n"
     ]
    }
   ],
   "source": [
    "print(len(vocab))"
   ]
  },
  {
   "cell_type": "markdown",
   "metadata": {},
   "source": [
    "## Caption Preprocessing\n"
   ]
  },
  {
   "cell_type": "code",
   "execution_count": 7,
   "metadata": {},
   "outputs": [],
   "source": [
    "captions_onehot = np.load('preprocessed_captions/Flicker8k_onehot_'+str(len(vocab))+'_words.npz')\n",
    "train_captions_onehot = captions_onehot[\"train\"]\n",
    "validation_captions_onehot = captions_onehot[\"validation\"]\n",
    "test_captions_onehot = captions_onehot[\"test\"]\n",
    "\n",
    "train_captions_onehot = train_captions_onehot.astype(np.float32)\n",
    "validation_captions_onehot = validation_captions_onehot.astype(np.float32)\n",
    "test_captions_onehot = test_captions_onehot.astype(np.float32)"
   ]
  },
  {
   "cell_type": "code",
   "execution_count": 8,
   "metadata": {},
   "outputs": [
    {
     "name": "stdout",
     "output_type": "stream",
     "text": [
      "(30000, 39, 2531)\n",
      "(5000, 39, 2531)\n",
      "(5000, 39, 2531)\n"
     ]
    }
   ],
   "source": [
    "print(train_captions_onehot.shape)\n",
    "print(validation_captions_onehot.shape)\n",
    "print(test_captions_onehot.shape)"
   ]
  },
  {
   "cell_type": "code",
   "execution_count": 9,
   "metadata": {},
   "outputs": [
    {
     "name": "stdout",
     "output_type": "stream",
     "text": [
      "float32 float32 float32\n"
     ]
    }
   ],
   "source": [
    "print(train_captions_onehot.dtype, validation_captions_onehot.dtype, test_captions_onehot.dtype)"
   ]
  },
  {
   "cell_type": "code",
   "execution_count": 10,
   "metadata": {},
   "outputs": [],
   "source": [
    "def captions_onehot_split(captions_onehot):\n",
    "    \"\"\" returns decoder input data and decoder target data \"\"\"\n",
    "    return captions_onehot[:, :-1, :], captions_onehot[:, :, :]"
   ]
  },
  {
   "cell_type": "markdown",
   "metadata": {},
   "source": [
    "### Training captions - > decoder input, target data  "
   ]
  },
  {
   "cell_type": "code",
   "execution_count": 11,
   "metadata": {},
   "outputs": [],
   "source": [
    "train_decoder_input, train_decoder_target = captions_onehot_split(train_captions_onehot)\n",
    "validation_decoder_input, validation_decoder_target = captions_onehot_split(validation_captions_onehot)\n",
    "test_decoder_input, test_decoder_target = captions_onehot_split(test_captions_onehot)"
   ]
  },
  {
   "cell_type": "code",
   "execution_count": 12,
   "metadata": {},
   "outputs": [],
   "source": [
    "train_encoder_output = bottleneck_features_train_dup.astype(np.float32)\n",
    "test_encoder_output = bottleneck_features_test_dup.astype(np.float32)\n",
    "validation_encoder_output = bottleneck_features_validation_dup.astype(np.float32)"
   ]
  },
  {
   "cell_type": "code",
   "execution_count": 13,
   "metadata": {},
   "outputs": [],
   "source": [
    "test_decoder_input = np.argmax(test_decoder_input, axis=-1)\n",
    "train_decoder_input = np.argmax(train_decoder_input, axis=-1)\n",
    "validation_decoder_input = np.argmax(validation_decoder_input, axis=-1)"
   ]
  },
  {
   "cell_type": "code",
   "execution_count": 14,
   "metadata": {},
   "outputs": [
    {
     "name": "stdout",
     "output_type": "stream",
     "text": [
      "Decoder Input (30000, 38) int64\n",
      "Decoder Target (30000, 39, 2531) float32\n",
      "Encoder Output (30000, 512) float32\n"
     ]
    }
   ],
   "source": [
    "print(\"Decoder Input\", train_decoder_input.shape, train_decoder_input.dtype)\n",
    "print(\"Decoder Target\", train_decoder_target.shape, train_decoder_target.dtype)\n",
    "print(\"Encoder Output\", train_encoder_output.shape, train_encoder_output.dtype)"
   ]
  },
  {
   "cell_type": "markdown",
   "metadata": {},
   "source": [
    "## Build Model"
   ]
  },
  {
   "cell_type": "markdown",
   "metadata": {},
   "source": [
    "-------------------------\n",
    "# Experiment "
   ]
  },
  {
   "cell_type": "markdown",
   "metadata": {},
   "source": [
    "## Parameters"
   ]
  },
  {
   "cell_type": "code",
   "execution_count": 15,
   "metadata": {},
   "outputs": [],
   "source": [
    "from keras.models import Model, Sequential\n",
    "from keras.layers import Input, LSTM, GRU, Dense, Embedding, BatchNormalization, RepeatVector, Concatenate, TimeDistributed, Merge, Dropout\n",
    "from keras import backend as K"
   ]
  },
  {
   "cell_type": "code",
   "execution_count": 16,
   "metadata": {},
   "outputs": [
    {
     "name": "stdout",
     "output_type": "stream",
     "text": [
      "39\n"
     ]
    }
   ],
   "source": [
    "emb_size = 150\n",
    "lstm_size = 300\n",
    "vocab_size = len(vocab)\n",
    "max_length = train_decoder_target.shape[1]\n",
    "print(max_length)"
   ]
  },
  {
   "cell_type": "code",
   "execution_count": 17,
   "metadata": {},
   "outputs": [
    {
     "name": "stderr",
     "output_type": "stream",
     "text": [
      "/home/ubuntu/anaconda3/envs/tensorflow-3.5/lib/python3.5/site-packages/ipykernel_launcher.py:16: UserWarning: The `Merge` layer is deprecated and will be removed after 08/2017. Use instead layers from `keras.layers.merge`, e.g. `add`, `concatenate`, etc.\n",
      "  app.launch_new_instance()\n"
     ]
    }
   ],
   "source": [
    "K.clear_session()\n",
    "\n",
    "# Image -> Image embedding\n",
    "img_emb = Sequential()\n",
    "img_emb.add(Dense(emb_size, input_dim=train_encoder_output.shape[1], activation='relu'))\n",
    "img_emb.add(RepeatVector(1))\n",
    "img_emb.add(Dropout(0.2))\n",
    "\n",
    "# Sentence to Word embedding\n",
    "word_emb = Sequential()\n",
    "word_emb.add(Embedding(input_dim=vocab_size, output_dim=emb_size, input_length=max_length-1))\n",
    "word_emb.add(Dropout(0.2))\n",
    "\n",
    "# Merge img_emb and word_emb\n",
    "seq_in = Sequential()\n",
    "seq_in.add(Merge([img_emb, word_emb], mode='concat', concat_axis=1))\n",
    "seq_in.add(Dropout(0.2))\n",
    "#seq_in.add(Concatenate([img_emb, word_emb]))\n",
    "\n",
    "# RNN Layer\n",
    "seq_in.add(GRU(lstm_size, return_sequences=True))\n",
    "seq_in.add(Dropout(0.2))\n",
    "seq_in.add(TimeDistributed(Dense(vocab_size)))\n",
    "\n",
    "seq_in.compile(optimizer='rmsprop',\n",
    "               loss='categorical_crossentropy',\n",
    "               metrics=['accuracy'])"
   ]
  },
  {
   "cell_type": "code",
   "execution_count": 18,
   "metadata": {},
   "outputs": [
    {
     "name": "stdout",
     "output_type": "stream",
     "text": [
      "_________________________________________________________________\n",
      "Layer (type)                 Output Shape              Param #   \n",
      "=================================================================\n",
      "dense_1 (Dense)              (None, 150)               76950     \n",
      "_________________________________________________________________\n",
      "repeat_vector_1 (RepeatVecto (None, 1, 150)            0         \n",
      "_________________________________________________________________\n",
      "dropout_1 (Dropout)          (None, 1, 150)            0         \n",
      "=================================================================\n",
      "Total params: 76,950\n",
      "Trainable params: 76,950\n",
      "Non-trainable params: 0\n",
      "_________________________________________________________________\n",
      "None\n",
      "_________________________________________________________________\n",
      "Layer (type)                 Output Shape              Param #   \n",
      "=================================================================\n",
      "embedding_1 (Embedding)      (None, 38, 150)           379650    \n",
      "_________________________________________________________________\n",
      "dropout_2 (Dropout)          (None, 38, 150)           0         \n",
      "=================================================================\n",
      "Total params: 379,650\n",
      "Trainable params: 379,650\n",
      "Non-trainable params: 0\n",
      "_________________________________________________________________\n",
      "None\n",
      "_________________________________________________________________\n",
      "Layer (type)                 Output Shape              Param #   \n",
      "=================================================================\n",
      "merge_1 (Merge)              (None, 39, 150)           0         \n",
      "_________________________________________________________________\n",
      "dropout_3 (Dropout)          (None, 39, 150)           0         \n",
      "_________________________________________________________________\n",
      "gru_1 (GRU)                  (None, 39, 300)           405900    \n",
      "_________________________________________________________________\n",
      "dropout_4 (Dropout)          (None, 39, 300)           0         \n",
      "_________________________________________________________________\n",
      "time_distributed_1 (TimeDist (None, 39, 2531)          761831    \n",
      "=================================================================\n",
      "Total params: 1,624,331\n",
      "Trainable params: 1,624,331\n",
      "Non-trainable params: 0\n",
      "_________________________________________________________________\n",
      "None\n"
     ]
    }
   ],
   "source": [
    "print(img_emb.summary())\n",
    "print(word_emb.summary())\n",
    "print(seq_in.summary())"
   ]
  },
  {
   "cell_type": "code",
   "execution_count": 19,
   "metadata": {},
   "outputs": [],
   "source": [
    "from keras.callbacks import ModelCheckpoint\n",
    "\n",
    "checkpointer = ModelCheckpoint(filepath='saved_models/weights.best.VGG16.hdf5', \n",
    "                               verbose=1, save_best_only=True)"
   ]
  },
  {
   "cell_type": "code",
   "execution_count": 20,
   "metadata": {},
   "outputs": [
    {
     "name": "stdout",
     "output_type": "stream",
     "text": [
      "Train on 30000 samples, validate on 5000 samples\n",
      "Epoch 1/50\n",
      "30000/30000 [==============================] - 65s 2ms/step - loss: 3.6376 - acc: 0.0276 - val_loss: 3.3095 - val_acc: 0.0285\n",
      "\n",
      "Epoch 00001: val_loss improved from inf to 3.30947, saving model to saved_models/weights.best.VGG16.hdf5\n",
      "Epoch 2/50\n",
      "30000/30000 [==============================] - 63s 2ms/step - loss: 3.5916 - acc: 0.0287 - val_loss: 3.7013 - val_acc: 0.0286\n",
      "\n",
      "Epoch 00002: val_loss did not improve\n",
      "Epoch 3/50\n",
      "30000/30000 [==============================] - 63s 2ms/step - loss: 3.5462 - acc: 0.0288 - val_loss: 3.7184 - val_acc: 0.0286\n",
      "\n",
      "Epoch 00003: val_loss did not improve\n",
      "Epoch 4/50\n",
      "30000/30000 [==============================] - 63s 2ms/step - loss: 3.4928 - acc: 0.0295 - val_loss: 3.2444 - val_acc: 0.0302\n",
      "\n",
      "Epoch 00004: val_loss improved from 3.30947 to 3.24435, saving model to saved_models/weights.best.VGG16.hdf5\n",
      "Epoch 5/50\n",
      "30000/30000 [==============================] - 63s 2ms/step - loss: 3.4725 - acc: 0.0304 - val_loss: 3.5264 - val_acc: 0.0310\n",
      "\n",
      "Epoch 00005: val_loss did not improve\n",
      "Epoch 6/50\n",
      "30000/30000 [==============================] - 62s 2ms/step - loss: 3.4346 - acc: 0.0310 - val_loss: 3.5031 - val_acc: 0.0316\n",
      "\n",
      "Epoch 00006: val_loss did not improve\n",
      "Epoch 7/50\n",
      "30000/30000 [==============================] - 63s 2ms/step - loss: 3.3981 - acc: 0.0314 - val_loss: 3.2231 - val_acc: 0.0318\n",
      "\n",
      "Epoch 00007: val_loss improved from 3.24435 to 3.22308, saving model to saved_models/weights.best.VGG16.hdf5\n",
      "Epoch 8/50\n",
      "30000/30000 [==============================] - 63s 2ms/step - loss: 3.3816 - acc: 0.0317 - val_loss: 3.4067 - val_acc: 0.0316\n",
      "\n",
      "Epoch 00008: val_loss did not improve\n",
      "Epoch 9/50\n",
      "30000/30000 [==============================] - 63s 2ms/step - loss: 3.3657 - acc: 0.0318 - val_loss: 3.2850 - val_acc: 0.0318\n",
      "\n",
      "Epoch 00009: val_loss did not improve\n",
      "Epoch 10/50\n",
      "30000/30000 [==============================] - 63s 2ms/step - loss: 3.3537 - acc: 0.0320 - val_loss: 3.5104 - val_acc: 0.0320\n",
      "\n",
      "Epoch 00010: val_loss did not improve\n",
      "Epoch 11/50\n",
      "30000/30000 [==============================] - 63s 2ms/step - loss: 3.3256 - acc: 0.0322 - val_loss: 3.1193 - val_acc: 0.0321\n",
      "\n",
      "Epoch 00011: val_loss improved from 3.22308 to 3.11930, saving model to saved_models/weights.best.VGG16.hdf5\n",
      "Epoch 12/50\n",
      "30000/30000 [==============================] - 63s 2ms/step - loss: 3.3082 - acc: 0.0325 - val_loss: 3.1601 - val_acc: 0.0324\n",
      "\n",
      "Epoch 00012: val_loss did not improve\n",
      "Epoch 13/50\n",
      "30000/30000 [==============================] - 63s 2ms/step - loss: 3.3037 - acc: 0.0326 - val_loss: 3.4306 - val_acc: 0.0325\n",
      "\n",
      "Epoch 00013: val_loss did not improve\n",
      "Epoch 14/50\n",
      "30000/30000 [==============================] - 63s 2ms/step - loss: 3.2960 - acc: 0.0330 - val_loss: 3.2146 - val_acc: 0.0333\n",
      "\n",
      "Epoch 00014: val_loss did not improve\n",
      "Epoch 15/50\n",
      "30000/30000 [==============================] - 63s 2ms/step - loss: 3.2734 - acc: 0.0334 - val_loss: 2.9887 - val_acc: 0.0334\n",
      "\n",
      "Epoch 00015: val_loss improved from 3.11930 to 2.98866, saving model to saved_models/weights.best.VGG16.hdf5\n",
      "Epoch 16/50\n",
      "30000/30000 [==============================] - 63s 2ms/step - loss: 3.2743 - acc: 0.0337 - val_loss: 3.5625 - val_acc: 0.0343\n",
      "\n",
      "Epoch 00016: val_loss did not improve\n",
      "Epoch 17/50\n",
      "30000/30000 [==============================] - 63s 2ms/step - loss: 3.2737 - acc: 0.0346 - val_loss: 3.1384 - val_acc: 0.0336\n",
      "\n",
      "Epoch 00017: val_loss did not improve\n",
      "Epoch 18/50\n",
      "30000/30000 [==============================] - 63s 2ms/step - loss: 3.2504 - acc: 0.0347 - val_loss: 3.1532 - val_acc: 0.0348\n",
      "\n",
      "Epoch 00018: val_loss did not improve\n",
      "Epoch 19/50\n",
      "30000/30000 [==============================] - 63s 2ms/step - loss: 3.2397 - acc: 0.0362 - val_loss: 2.9679 - val_acc: 0.0380\n",
      "\n",
      "Epoch 00019: val_loss improved from 2.98866 to 2.96794, saving model to saved_models/weights.best.VGG16.hdf5\n",
      "Epoch 20/50\n",
      "30000/30000 [==============================] - 63s 2ms/step - loss: 3.2433 - acc: 0.0366 - val_loss: 3.5672 - val_acc: 0.0372\n",
      "\n",
      "Epoch 00020: val_loss did not improve\n",
      "Epoch 21/50\n",
      "30000/30000 [==============================] - 63s 2ms/step - loss: 3.2346 - acc: 0.0371 - val_loss: 3.1704 - val_acc: 0.0377\n",
      "\n",
      "Epoch 00021: val_loss did not improve\n",
      "Epoch 22/50\n",
      "30000/30000 [==============================] - 63s 2ms/step - loss: 3.2234 - acc: 0.0376 - val_loss: 2.7937 - val_acc: 0.0390\n",
      "\n",
      "Epoch 00022: val_loss improved from 2.96794 to 2.79368, saving model to saved_models/weights.best.VGG16.hdf5\n",
      "Epoch 23/50\n",
      "30000/30000 [==============================] - 63s 2ms/step - loss: 3.2184 - acc: 0.0380 - val_loss: 2.9084 - val_acc: 0.0390\n",
      "\n",
      "Epoch 00023: val_loss did not improve\n",
      "Epoch 24/50\n",
      "30000/30000 [==============================] - 63s 2ms/step - loss: 3.2160 - acc: 0.0381 - val_loss: 3.3082 - val_acc: 0.0382\n",
      "\n",
      "Epoch 00024: val_loss did not improve\n",
      "Epoch 25/50\n",
      "30000/30000 [==============================] - 63s 2ms/step - loss: 3.2136 - acc: 0.0383 - val_loss: 3.1907 - val_acc: 0.0387\n",
      "\n",
      "Epoch 00025: val_loss did not improve\n",
      "Epoch 26/50\n",
      "30000/30000 [==============================] - 63s 2ms/step - loss: 3.2079 - acc: 0.0386 - val_loss: 2.9840 - val_acc: 0.0387\n",
      "\n",
      "Epoch 00026: val_loss did not improve\n",
      "Epoch 27/50\n",
      "30000/30000 [==============================] - 63s 2ms/step - loss: 3.1969 - acc: 0.0390 - val_loss: 2.6850 - val_acc: 0.0395\n",
      "\n",
      "Epoch 00027: val_loss improved from 2.79368 to 2.68504, saving model to saved_models/weights.best.VGG16.hdf5\n",
      "Epoch 28/50\n",
      "30000/30000 [==============================] - 63s 2ms/step - loss: 3.2000 - acc: 0.0392 - val_loss: 3.1716 - val_acc: 0.0398\n",
      "\n",
      "Epoch 00028: val_loss did not improve\n",
      "Epoch 29/50\n",
      "30000/30000 [==============================] - 63s 2ms/step - loss: 3.1968 - acc: 0.0394 - val_loss: 3.1958 - val_acc: 0.0395\n",
      "\n",
      "Epoch 00029: val_loss did not improve\n",
      "Epoch 30/50\n",
      "30000/30000 [==============================] - 63s 2ms/step - loss: 3.1952 - acc: 0.0393 - val_loss: 3.2826 - val_acc: 0.0403\n",
      "\n",
      "Epoch 00030: val_loss did not improve\n",
      "Epoch 31/50\n",
      "30000/30000 [==============================] - 63s 2ms/step - loss: 3.1831 - acc: 0.0398 - val_loss: 2.8024 - val_acc: 0.0404\n",
      "\n",
      "Epoch 00031: val_loss did not improve\n",
      "Epoch 32/50\n",
      "30000/30000 [==============================] - 63s 2ms/step - loss: 3.1842 - acc: 0.0397 - val_loss: 3.1773 - val_acc: 0.0402\n",
      "\n",
      "Epoch 00032: val_loss did not improve\n",
      "Epoch 33/50\n",
      "30000/30000 [==============================] - 63s 2ms/step - loss: 3.1900 - acc: 0.0398 - val_loss: 3.1478 - val_acc: 0.0409\n",
      "\n",
      "Epoch 00033: val_loss did not improve\n",
      "Epoch 34/50\n",
      "30000/30000 [==============================] - 63s 2ms/step - loss: 3.1797 - acc: 0.0402 - val_loss: 3.1402 - val_acc: 0.0405\n",
      "\n",
      "Epoch 00034: val_loss did not improve\n",
      "Epoch 35/50\n",
      "30000/30000 [==============================] - 62s 2ms/step - loss: 3.1699 - acc: 0.0401 - val_loss: 2.9824 - val_acc: 0.0410\n",
      "\n",
      "Epoch 00035: val_loss did not improve\n",
      "Epoch 36/50\n",
      "30000/30000 [==============================] - 62s 2ms/step - loss: 3.1707 - acc: 0.0403 - val_loss: 2.9299 - val_acc: 0.0410\n",
      "\n",
      "Epoch 00036: val_loss did not improve\n",
      "Epoch 37/50\n",
      "30000/30000 [==============================] - 62s 2ms/step - loss: 3.1724 - acc: 0.0405 - val_loss: 2.7324 - val_acc: 0.0412\n",
      "\n",
      "Epoch 00037: val_loss did not improve\n",
      "Epoch 38/50\n",
      "30000/30000 [==============================] - 63s 2ms/step - loss: 3.1715 - acc: 0.0404 - val_loss: 3.1592 - val_acc: 0.0408\n",
      "\n",
      "Epoch 00038: val_loss did not improve\n",
      "Epoch 39/50\n",
      "30000/30000 [==============================] - 63s 2ms/step - loss: 3.1586 - acc: 0.0406 - val_loss: 3.1500 - val_acc: 0.0413\n",
      "\n",
      "Epoch 00039: val_loss did not improve\n",
      "Epoch 40/50\n",
      "30000/30000 [==============================] - 63s 2ms/step - loss: 3.1731 - acc: 0.0406 - val_loss: 3.3729 - val_acc: 0.0409\n",
      "\n",
      "Epoch 00040: val_loss did not improve\n",
      "Epoch 41/50\n",
      "30000/30000 [==============================] - 63s 2ms/step - loss: 3.1573 - acc: 0.0406 - val_loss: 3.5942 - val_acc: 0.0410\n",
      "\n",
      "Epoch 00041: val_loss did not improve\n",
      "Epoch 42/50\n",
      "30000/30000 [==============================] - 63s 2ms/step - loss: 3.1525 - acc: 0.0407 - val_loss: 3.6022 - val_acc: 0.0413\n",
      "\n",
      "Epoch 00042: val_loss did not improve\n",
      "Epoch 43/50\n",
      "30000/30000 [==============================] - 63s 2ms/step - loss: 3.1664 - acc: 0.0409 - val_loss: 3.0069 - val_acc: 0.0418\n",
      "\n",
      "Epoch 00043: val_loss did not improve\n",
      "Epoch 44/50\n"
     ]
    },
    {
     "name": "stdout",
     "output_type": "stream",
     "text": [
      "30000/30000 [==============================] - 62s 2ms/step - loss: 3.1378 - acc: 0.0410 - val_loss: 3.2404 - val_acc: 0.0416\n",
      "\n",
      "Epoch 00044: val_loss did not improve\n",
      "Epoch 45/50\n",
      "30000/30000 [==============================] - 62s 2ms/step - loss: 3.1607 - acc: 0.0410 - val_loss: 3.0868 - val_acc: 0.0417\n",
      "\n",
      "Epoch 00045: val_loss did not improve\n",
      "Epoch 46/50\n",
      "30000/30000 [==============================] - 63s 2ms/step - loss: 3.1524 - acc: 0.0411 - val_loss: 2.9293 - val_acc: 0.0419\n",
      "\n",
      "Epoch 00046: val_loss did not improve\n",
      "Epoch 47/50\n",
      "30000/30000 [==============================] - 63s 2ms/step - loss: 3.1548 - acc: 0.0412 - val_loss: 3.4887 - val_acc: 0.0419\n",
      "\n",
      "Epoch 00047: val_loss did not improve\n",
      "Epoch 48/50\n",
      "30000/30000 [==============================] - 63s 2ms/step - loss: 3.1583 - acc: 0.0412 - val_loss: 3.0571 - val_acc: 0.0418\n",
      "\n",
      "Epoch 00048: val_loss did not improve\n",
      "Epoch 49/50\n",
      "30000/30000 [==============================] - 63s 2ms/step - loss: 3.1519 - acc: 0.0413 - val_loss: 3.2679 - val_acc: 0.0421\n",
      "\n",
      "Epoch 00049: val_loss did not improve\n",
      "Epoch 50/50\n",
      "30000/30000 [==============================] - 63s 2ms/step - loss: 3.1361 - acc: 0.0411 - val_loss: 3.1377 - val_acc: 0.0420\n",
      "\n",
      "Epoch 00050: val_loss did not improve\n"
     ]
    },
    {
     "data": {
      "text/plain": [
       "<keras.callbacks.History at 0x7fe012ee71d0>"
      ]
     },
     "execution_count": 20,
     "metadata": {},
     "output_type": "execute_result"
    }
   ],
   "source": [
    "seq_in.fit([train_encoder_output, train_decoder_input], [train_decoder_target], \n",
    "           validation_data=([validation_encoder_output, validation_decoder_input], [validation_decoder_target]),\n",
    "           epochs=50, batch_size=32, callbacks=[checkpointer], verbose=1)"
   ]
  }
 ],
 "metadata": {
  "kernelspec": {
   "display_name": "Python 3",
   "language": "python",
   "name": "python3"
  },
  "language_info": {
   "codemirror_mode": {
    "name": "ipython",
    "version": 3
   },
   "file_extension": ".py",
   "mimetype": "text/x-python",
   "name": "python",
   "nbconvert_exporter": "python",
   "pygments_lexer": "ipython3",
   "version": "3.5.5"
  }
 },
 "nbformat": 4,
 "nbformat_minor": 2
}
