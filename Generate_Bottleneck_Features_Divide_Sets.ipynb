{
 "cells": [
  {
   "cell_type": "markdown",
   "metadata": {},
   "source": [
    "# Computer Vision Project"
   ]
  },
  {
   "cell_type": "markdown",
   "metadata": {},
   "source": [
    "## Generate Bottleneck Features for flicker8k"
   ]
  },
  {
   "cell_type": "markdown",
   "metadata": {},
   "source": [
    "### Todo\n",
    "1. Place 'Flicker8k_Dataset' in the directory with images\n",
    "2. Create `bottleneck_features` directory"
   ]
  },
  {
   "cell_type": "code",
   "execution_count": 1,
   "metadata": {},
   "outputs": [
    {
     "name": "stderr",
     "output_type": "stream",
     "text": [
      "/home/ubuntu/anaconda2/envs/tensorflow-2.7/lib/python2.7/site-packages/h5py/__init__.py:36: FutureWarning: Conversion of the second argument of issubdtype from `float` to `np.floating` is deprecated. In future, it will be treated as `np.float64 == np.dtype(float).type`.\n",
      "  from ._conv import register_converters as _register_converters\n",
      "Using TensorFlow backend.\n"
     ]
    }
   ],
   "source": [
    "import glob\n",
    "import numpy as np\n",
    "from keras.preprocessing import image"
   ]
  },
  {
   "cell_type": "markdown",
   "metadata": {},
   "source": [
    "Initialize `bottleneck_features`"
   ]
  },
  {
   "cell_type": "code",
   "execution_count": 31,
   "metadata": {},
   "outputs": [],
   "source": [
    "with open('data/Flickr8k_text/Flickr_8k.trainImages.txt') as f:\n",
    "    train_files = []\n",
    "    for line in f:\n",
    "        train_files.append('Flicker8k_Dataset/' + line.rstrip())"
   ]
  },
  {
   "cell_type": "code",
   "execution_count": 33,
   "metadata": {},
   "outputs": [],
   "source": [
    "with open('data/Flickr8k_text/Flickr_8k.testImages.txt') as f:\n",
    "    test_files = []\n",
    "    for line in f:\n",
    "        test_files.append('Flicker8k_Dataset/' + line.rstrip())"
   ]
  },
  {
   "cell_type": "code",
   "execution_count": 34,
   "metadata": {},
   "outputs": [],
   "source": [
    "with open('data/Flickr8k_text/Flickr_8k.devImages.txt') as f:\n",
    "    validation_files = []\n",
    "    for line in f:\n",
    "        validation_files.append('Flicker8k_Dataset/' + line.rstrip())"
   ]
  },
  {
   "cell_type": "code",
   "execution_count": 28,
   "metadata": {
    "scrolled": false
   },
   "outputs": [
    {
     "data": {
      "text/plain": [
       "(6000, 1000, 1000)"
      ]
     },
     "execution_count": 28,
     "metadata": {},
     "output_type": "execute_result"
    }
   ],
   "source": [
    "len(train_files), len(test_files), len(validation_files)"
   ]
  },
  {
   "cell_type": "markdown",
   "metadata": {},
   "source": [
    "### 1. VGG16 (512 - last layer)"
   ]
  },
  {
   "cell_type": "code",
   "execution_count": 35,
   "metadata": {},
   "outputs": [],
   "source": [
    "from keras.applications.vgg16 import VGG16\n",
    "from keras.applications.vgg16 import preprocess_input\n",
    "\n",
    "# Initialize the bottleneck_features numpy array\n",
    "bottleneck_features_VGG16_train = np.zeros((len(train_files), 7, 7, 512))\n",
    "bottleneck_features_VGG16_test = np.zeros((len(test_files), 7, 7, 512))\n",
    "bottleneck_features_VGG16_validation = np.zeros((len(validation_files), 7, 7, 512))\n",
    "\n",
    "model = VGG16(weights='imagenet', include_top=False, pooling=None)\n",
    "\n",
    "for i, path in enumerate(train_files):\n",
    "    img = image.load_img(path, target_size=(224, 224))\n",
    "    x = image.img_to_array(img)\n",
    "    x = np.expand_dims(x, axis=0)\n",
    "    x = preprocess_input(x)\n",
    "    features = model.predict(x)    \n",
    "    bottleneck_features_VGG16_train[i] = features\n",
    "\n",
    "for i, path in enumerate(test_files):\n",
    "    img = image.load_img(path, target_size=(224, 224))\n",
    "    x = image.img_to_array(img)\n",
    "    x = np.expand_dims(x, axis=0)\n",
    "    x = preprocess_input(x)\n",
    "    features = model.predict(x)    \n",
    "    bottleneck_features_VGG16_test[i] = features\n",
    "\n",
    "for i, path in enumerate(validation_files):\n",
    "    img = image.load_img(path, target_size=(224, 224))\n",
    "    x = image.img_to_array(img)\n",
    "    x = np.expand_dims(x, axis=0)\n",
    "    x = preprocess_input(x)\n",
    "    features = model.predict(x)    \n",
    "    bottleneck_features_VGG16_validation[i] = features"
   ]
  },
  {
   "cell_type": "code",
   "execution_count": 36,
   "metadata": {},
   "outputs": [],
   "source": [
    "np.savez('bottleneck_features/Flicker8k_bottleneck_features_VGG16', \n",
    "         train=bottleneck_features_VGG16_train, \n",
    "         test=bottleneck_features_VGG16_test, \n",
    "         validation=bottleneck_features_VGG16_validation)"
   ]
  },
  {
   "cell_type": "markdown",
   "metadata": {},
   "source": [
    "When loading, use \n",
    "\n",
    "```\n",
    "bottleneck_features = np.load('bottleneck_features/Flicker8k_bottleneck_features_VGG16.npz')\n",
    "bottleneck_features_train = bottleneck_features[\"train\"]\n",
    "bottleneck_features_test = bottleneck_features[\"test\"]\n",
    "bottleneck_features_validation = bottleneck_features[\"validation\"]\n",
    "\n",
    "```"
   ]
  },
  {
   "cell_type": "code",
   "execution_count": 48,
   "metadata": {},
   "outputs": [],
   "source": [
    "bottleneck_features = np.load('bottleneck_features/Flicker8k_bottleneck_features_VGG16.npz')\n",
    "bottleneck_features_train = bottleneck_features[\"train\"]"
   ]
  },
  {
   "cell_type": "code",
   "execution_count": 49,
   "metadata": {},
   "outputs": [
    {
     "data": {
      "text/plain": [
       "(6000, 7, 7, 512)"
      ]
     },
     "execution_count": 49,
     "metadata": {},
     "output_type": "execute_result"
    }
   ],
   "source": [
    "bottleneck_features_train.shape"
   ]
  },
  {
   "cell_type": "markdown",
   "metadata": {},
   "source": [
    "### Another set of bottleneck features applying average pooling layer in the end"
   ]
  },
  {
   "cell_type": "code",
   "execution_count": 52,
   "metadata": {},
   "outputs": [],
   "source": [
    "model = VGG16(weights='imagenet', include_top=False, pooling='avg')\n",
    "\n",
    "bottleneck_features_VGG16_train = np.zeros((len(train_files), 512))\n",
    "bottleneck_features_VGG16_test = np.zeros((len(test_files), 512))\n",
    "bottleneck_features_VGG16_validation = np.zeros((len(validation_files), 512))\n",
    "\n",
    "for i, path in enumerate(train_files):\n",
    "    img = image.load_img(path, target_size=(224, 224))\n",
    "    x = image.img_to_array(img)\n",
    "    x = np.expand_dims(x, axis=0)\n",
    "    x = preprocess_input(x)\n",
    "    features = model.predict(x)    \n",
    "    bottleneck_features_VGG16_train[i] = features\n",
    "\n",
    "for i, path in enumerate(test_files):\n",
    "    img = image.load_img(path, target_size=(224, 224))\n",
    "    x = image.img_to_array(img)\n",
    "    x = np.expand_dims(x, axis=0)\n",
    "    x = preprocess_input(x)\n",
    "    features = model.predict(x)    \n",
    "    bottleneck_features_VGG16_test[i] = features\n",
    "\n",
    "for i, path in enumerate(validation_files):\n",
    "    img = image.load_img(path, target_size=(224, 224))\n",
    "    x = image.img_to_array(img)\n",
    "    x = np.expand_dims(x, axis=0)\n",
    "    x = preprocess_input(x)\n",
    "    features = model.predict(x)    \n",
    "    bottleneck_features_VGG16_validation[i] = features"
   ]
  },
  {
   "cell_type": "code",
   "execution_count": 53,
   "metadata": {},
   "outputs": [],
   "source": [
    "np.savez('bottleneck_features/Flicker8k_bottleneck_features_VGG16_avgpooling', \n",
    "         train=bottleneck_features_VGG16_train, \n",
    "         test=bottleneck_features_VGG16_test, \n",
    "         validation=bottleneck_features_VGG16_validation)"
   ]
  },
  {
   "cell_type": "code",
   "execution_count": 54,
   "metadata": {},
   "outputs": [],
   "source": [
    "bottleneck_features = np.load('bottleneck_features/Flicker8k_bottleneck_features_VGG16_avgpooling.npz')\n",
    "bottleneck_features_train = bottleneck_features[\"train\"]"
   ]
  },
  {
   "cell_type": "code",
   "execution_count": 55,
   "metadata": {},
   "outputs": [
    {
     "data": {
      "text/plain": [
       "(6000, 512)"
      ]
     },
     "execution_count": 55,
     "metadata": {},
     "output_type": "execute_result"
    }
   ],
   "source": [
    "bottleneck_features_train.shape"
   ]
  },
  {
   "cell_type": "markdown",
   "metadata": {},
   "source": [
    "----------------\n",
    "## Need to modify codes below!!!"
   ]
  },
  {
   "cell_type": "markdown",
   "metadata": {},
   "source": [
    "### 2. VGG19 (512 - last layer)"
   ]
  },
  {
   "cell_type": "code",
   "execution_count": 56,
   "metadata": {},
   "outputs": [],
   "source": [
    "from keras.applications.vgg19 import VGG19\n",
    "from keras.applications.vgg19 import preprocess_input\n",
    "\n",
    "# Initialize the bottleneck_features numpy array\n",
    "bottleneck_features_VGG19_train = np.zeros((len(train_files), 7, 7, 512))\n",
    "bottleneck_features_VGG19_test = np.zeros((len(test_files), 7, 7, 512))\n",
    "bottleneck_features_VGG19_validation = np.zeros((len(validation_files), 7, 7, 512))\n",
    "\n",
    "model = VGG19(weights='imagenet', include_top=False, pooling=None)\n",
    "\n",
    "for i, path in enumerate(train_files):\n",
    "    img = image.load_img(path, target_size=(224, 224))\n",
    "    x = image.img_to_array(img)\n",
    "    x = np.expand_dims(x, axis=0)\n",
    "    x = preprocess_input(x)\n",
    "    features = model.predict(x)    \n",
    "    bottleneck_features_VGG19_train[i] = features\n",
    "\n",
    "for i, path in enumerate(test_files):\n",
    "    img = image.load_img(path, target_size=(224, 224))\n",
    "    x = image.img_to_array(img)\n",
    "    x = np.expand_dims(x, axis=0)\n",
    "    x = preprocess_input(x)\n",
    "    features = model.predict(x)    \n",
    "    bottleneck_features_VGG19_test[i] = features\n",
    "\n",
    "for i, path in enumerate(validation_files):\n",
    "    img = image.load_img(path, target_size=(224, 224))\n",
    "    x = image.img_to_array(img)\n",
    "    x = np.expand_dims(x, axis=0)\n",
    "    x = preprocess_input(x)\n",
    "    features = model.predict(x)    \n",
    "    bottleneck_features_VGG19_validation[i] = features"
   ]
  },
  {
   "cell_type": "code",
   "execution_count": 57,
   "metadata": {},
   "outputs": [],
   "source": [
    "np.savez('bottleneck_features/Flicker8k_bottleneck_features_VGG19', \n",
    "         train=bottleneck_features_VGG19_train, \n",
    "         test=bottleneck_features_VGG19_test, \n",
    "         validation=bottleneck_features_VGG19_validation)"
   ]
  },
  {
   "cell_type": "markdown",
   "metadata": {},
   "source": [
    "### Another set of bottleneck features applying average pooling layer in the end"
   ]
  },
  {
   "cell_type": "code",
   "execution_count": 58,
   "metadata": {},
   "outputs": [],
   "source": [
    "model = VGG19(weights='imagenet', include_top=False, pooling='avg')\n",
    "\n",
    "bottleneck_features_VGG19_train = np.zeros((len(train_files), 512))\n",
    "bottleneck_features_VGG19_test = np.zeros((len(test_files), 512))\n",
    "bottleneck_features_VGG19_validation = np.zeros((len(validation_files), 512))\n",
    "\n",
    "for i, path in enumerate(train_files):\n",
    "    img = image.load_img(path, target_size=(224, 224))\n",
    "    x = image.img_to_array(img)\n",
    "    x = np.expand_dims(x, axis=0)\n",
    "    x = preprocess_input(x)\n",
    "    features = model.predict(x)    \n",
    "    bottleneck_features_VGG19_train[i] = features\n",
    "\n",
    "for i, path in enumerate(test_files):\n",
    "    img = image.load_img(path, target_size=(224, 224))\n",
    "    x = image.img_to_array(img)\n",
    "    x = np.expand_dims(x, axis=0)\n",
    "    x = preprocess_input(x)\n",
    "    features = model.predict(x)    \n",
    "    bottleneck_features_VGG19_test[i] = features\n",
    "\n",
    "for i, path in enumerate(validation_files):\n",
    "    img = image.load_img(path, target_size=(224, 224))\n",
    "    x = image.img_to_array(img)\n",
    "    x = np.expand_dims(x, axis=0)\n",
    "    x = preprocess_input(x)\n",
    "    features = model.predict(x)    \n",
    "    bottleneck_features_VGG19_validation[i] = features"
   ]
  },
  {
   "cell_type": "code",
   "execution_count": 59,
   "metadata": {},
   "outputs": [],
   "source": [
    "np.savez('bottleneck_features/Flicker8k_bottleneck_features_VGG19_avgpooling', \n",
    "         train=bottleneck_features_VGG19_train, \n",
    "         test=bottleneck_features_VGG19_test, \n",
    "         validation=bottleneck_features_VGG19_validation)"
   ]
  },
  {
   "cell_type": "markdown",
   "metadata": {},
   "source": [
    "### 3. ResNet50 (2048 - last layer): pooling=avg"
   ]
  },
  {
   "cell_type": "code",
   "execution_count": 62,
   "metadata": {},
   "outputs": [],
   "source": [
    "from keras.applications.resnet50 import ResNet50\n",
    "from keras.applications.resnet50 import preprocess_input\n",
    "\n",
    "# Initialize the bottleneck_features numpy array\n",
    "bottleneck_features_ResNet50_train = np.zeros((len(train_files), 2048))\n",
    "bottleneck_features_ResNet50_test = np.zeros((len(test_files), 2048))\n",
    "bottleneck_features_ResNet50_validation = np.zeros((len(validation_files), 2048))\n",
    "\n",
    "model = ResNet50(weights='imagenet', include_top=False, pooling='avg')\n",
    "\n",
    "for i, path in enumerate(train_files):\n",
    "    img = image.load_img(path, target_size=(224, 224))\n",
    "    x = image.img_to_array(img)\n",
    "    x = np.expand_dims(x, axis=0)\n",
    "    x = preprocess_input(x)\n",
    "    features = model.predict(x)    \n",
    "    bottleneck_features_ResNet50_train[i] = features\n",
    "\n",
    "for i, path in enumerate(test_files):\n",
    "    img = image.load_img(path, target_size=(224, 224))\n",
    "    x = image.img_to_array(img)\n",
    "    x = np.expand_dims(x, axis=0)\n",
    "    x = preprocess_input(x)\n",
    "    features = model.predict(x)    \n",
    "    bottleneck_features_ResNet50_test[i] = features\n",
    "\n",
    "for i, path in enumerate(validation_files):\n",
    "    img = image.load_img(path, target_size=(224, 224))\n",
    "    x = image.img_to_array(img)\n",
    "    x = np.expand_dims(x, axis=0)\n",
    "    x = preprocess_input(x)\n",
    "    features = model.predict(x)    \n",
    "    bottleneck_features_ResNet50_validation[i] = features"
   ]
  },
  {
   "cell_type": "code",
   "execution_count": 63,
   "metadata": {},
   "outputs": [],
   "source": [
    "np.savez('bottleneck_features/Flicker8k_bottleneck_features_ResNet50_avgpooling', \n",
    "         train=bottleneck_features_ResNet50_train, \n",
    "         test=bottleneck_features_ResNet50_test, \n",
    "         validation=bottleneck_features_ResNet50_validation)"
   ]
  },
  {
   "cell_type": "markdown",
   "metadata": {},
   "source": [
    "### 4. Xception (2048 - last layer): pooling=avg"
   ]
  },
  {
   "cell_type": "code",
   "execution_count": 64,
   "metadata": {},
   "outputs": [],
   "source": [
    "from keras.applications.xception import Xception\n",
    "from keras.applications.xception import preprocess_input\n",
    "\n",
    "# Initialize the bottleneck_features numpy array\n",
    "bottleneck_features_Xception_train = np.zeros((len(train_files), 2048))\n",
    "bottleneck_features_Xception_test = np.zeros((len(test_files), 2048))\n",
    "bottleneck_features_Xception_validation = np.zeros((len(validation_files), 2048))\n",
    "\n",
    "model = Xception(weights='imagenet', include_top=False, pooling='avg')\n",
    "\n",
    "for i, path in enumerate(train_files):\n",
    "    img = image.load_img(path, target_size=(224, 224))\n",
    "    x = image.img_to_array(img)\n",
    "    x = np.expand_dims(x, axis=0)\n",
    "    x = preprocess_input(x)\n",
    "    features = model.predict(x)    \n",
    "    bottleneck_features_Xception_train[i] = features\n",
    "\n",
    "for i, path in enumerate(test_files):\n",
    "    img = image.load_img(path, target_size=(224, 224))\n",
    "    x = image.img_to_array(img)\n",
    "    x = np.expand_dims(x, axis=0)\n",
    "    x = preprocess_input(x)\n",
    "    features = model.predict(x)    \n",
    "    bottleneck_features_Xception_test[i] = features\n",
    "\n",
    "for i, path in enumerate(validation_files):\n",
    "    img = image.load_img(path, target_size=(224, 224))\n",
    "    x = image.img_to_array(img)\n",
    "    x = np.expand_dims(x, axis=0)\n",
    "    x = preprocess_input(x)\n",
    "    features = model.predict(x)    \n",
    "    bottleneck_features_Xception_validation[i] = features"
   ]
  },
  {
   "cell_type": "code",
   "execution_count": 65,
   "metadata": {},
   "outputs": [],
   "source": [
    "np.savez('bottleneck_features/Flicker8k_bottleneck_features_Xception_avgpooling', \n",
    "         train=bottleneck_features_Xception_train, \n",
    "         test=bottleneck_features_Xception_test, \n",
    "         validation=bottleneck_features_Xception_validation)"
   ]
  }
 ],
 "metadata": {
  "kernelspec": {
   "display_name": "Python 3",
   "language": "python",
   "name": "python3"
  },
  "language_info": {
   "codemirror_mode": {
    "name": "ipython",
    "version": 3
   },
   "file_extension": ".py",
   "mimetype": "text/x-python",
   "name": "python",
   "nbconvert_exporter": "python",
   "pygments_lexer": "ipython3",
   "version": "3.5.5"
  }
 },
 "nbformat": 4,
 "nbformat_minor": 2
}
